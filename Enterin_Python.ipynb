{
 "cells": [
  {
   "cell_type": "code",
   "execution_count": 131,
   "id": "4edd5247",
   "metadata": {},
   "outputs": [
    {
     "data": {
      "text/plain": [
       "False"
      ]
     },
     "execution_count": 131,
     "metadata": {},
     "output_type": "execute_result"
    }
   ],
   "source": [
    "\"ba\" < \"b\""
   ]
  },
  {
   "cell_type": "code",
   "execution_count": 2,
   "id": "600d6ee8",
   "metadata": {
    "scrolled": true
   },
   "outputs": [
    {
     "data": {
      "text/plain": [
       "True"
      ]
     },
     "execution_count": 2,
     "metadata": {},
     "output_type": "execute_result"
    }
   ],
   "source": [
    "\"ba\"<\"bb\""
   ]
  },
  {
   "cell_type": "code",
   "execution_count": 3,
   "id": "a1c74790",
   "metadata": {},
   "outputs": [
    {
     "data": {
      "text/plain": [
       "True"
      ]
     },
     "execution_count": 3,
     "metadata": {},
     "output_type": "execute_result"
    }
   ],
   "source": [
    "\"b\" < \"ba\""
   ]
  },
  {
   "cell_type": "code",
   "execution_count": 4,
   "id": "e36d03c2",
   "metadata": {},
   "outputs": [
    {
     "data": {
      "text/plain": [
       "False"
      ]
     },
     "execution_count": 4,
     "metadata": {},
     "output_type": "execute_result"
    }
   ],
   "source": [
    "5<3 and print(\"hey\")"
   ]
  },
  {
   "cell_type": "code",
   "execution_count": 5,
   "id": "4edc3194",
   "metadata": {},
   "outputs": [
    {
     "name": "stdout",
     "output_type": "stream",
     "text": [
      "hey\n"
     ]
    }
   ],
   "source": [
    "5>3 and print(\"hey\")"
   ]
  },
  {
   "cell_type": "code",
   "execution_count": 6,
   "id": "cce41263",
   "metadata": {},
   "outputs": [
    {
     "name": "stdout",
     "output_type": "stream",
     "text": [
      "hey\n"
     ]
    }
   ],
   "source": [
    "5<3 or print(\"hey\")"
   ]
  },
  {
   "cell_type": "code",
   "execution_count": 7,
   "id": "01edc275",
   "metadata": {},
   "outputs": [
    {
     "data": {
      "text/plain": [
       "True"
      ]
     },
     "execution_count": 7,
     "metadata": {},
     "output_type": "execute_result"
    }
   ],
   "source": [
    "5>3 or print(\"hey\")"
   ]
  },
  {
   "cell_type": "code",
   "execution_count": 8,
   "id": "c3466c87",
   "metadata": {},
   "outputs": [
    {
     "name": "stdout",
     "output_type": "stream",
     "text": [
      "hey\n"
     ]
    },
    {
     "ename": "TypeError",
     "evalue": "unsupported operand type(s) for &: 'int' and 'NoneType'",
     "output_type": "error",
     "traceback": [
      "\u001b[1;31m---------------------------------------------------------------------------\u001b[0m",
      "\u001b[1;31mTypeError\u001b[0m                                 Traceback (most recent call last)",
      "Cell \u001b[1;32mIn[8], line 1\u001b[0m\n\u001b[1;32m----> 1\u001b[0m \u001b[38;5;241m5\u001b[39m\u001b[38;5;241m<\u001b[39m\u001b[38;5;241m3\u001b[39m \u001b[38;5;241m&\u001b[39m \u001b[38;5;28mprint\u001b[39m(\u001b[38;5;124m\"\u001b[39m\u001b[38;5;124mhey\u001b[39m\u001b[38;5;124m\"\u001b[39m)\n",
      "\u001b[1;31mTypeError\u001b[0m: unsupported operand type(s) for &: 'int' and 'NoneType'"
     ]
    }
   ],
   "source": [
    "5<3 & print(\"hey\")"
   ]
  },
  {
   "cell_type": "code",
   "execution_count": 9,
   "id": "53bd4c94",
   "metadata": {},
   "outputs": [
    {
     "name": "stdout",
     "output_type": "stream",
     "text": [
      "hello eric would you like to lear some phyton today ?\n"
     ]
    }
   ],
   "source": [
    "print(\"hello eric\" + \" would you like to lear some phyton today ?\")"
   ]
  },
  {
   "cell_type": "code",
   "execution_count": 10,
   "id": "3b3b886a",
   "metadata": {},
   "outputs": [
    {
     "name": "stdout",
     "output_type": "stream",
     "text": [
      "what would you like to say to eric?You can success whatever you want!\n",
      "hello eric,  You can success whatever you want!\n"
     ]
    }
   ],
   "source": [
    "message = input(\"what would you like to say to eric?\")\n",
    "\n",
    "full_message = \"{}  {}\".format(\"hello eric,\",message)\n",
    "print(full_message)"
   ]
  },
  {
   "cell_type": "code",
   "execution_count": 11,
   "id": "155ae03a",
   "metadata": {},
   "outputs": [
    {
     "name": "stdout",
     "output_type": "stream",
     "text": [
      "ayşeyi seviyorum ben dah çok seviyorum\n"
     ]
    }
   ],
   "source": [
    "ali = \"ayşeyi seviyorum\"\n",
    "veli = \"ben dah çok seviyorum\"\n",
    "\n",
    "sorun = \"{} {}\".format(ali,veli)\n",
    "print(sorun)\n"
   ]
  },
  {
   "cell_type": "code",
   "execution_count": 12,
   "id": "df307bda",
   "metadata": {},
   "outputs": [
    {
     "name": "stdout",
     "output_type": "stream",
     "text": [
      "You can success whatever you want!\n"
     ]
    }
   ],
   "source": [
    "print(message)"
   ]
  },
  {
   "cell_type": "code",
   "execution_count": 13,
   "id": "151b1d9c",
   "metadata": {},
   "outputs": [
    {
     "ename": "NameError",
     "evalue": "name 'ali' is not defined",
     "output_type": "error",
     "traceback": [
      "\u001b[1;31m---------------------------------------------------------------------------\u001b[0m",
      "\u001b[1;31mNameError\u001b[0m                                 Traceback (most recent call last)",
      "Cell \u001b[1;32mIn[13], line 2\u001b[0m\n\u001b[0;32m      1\u001b[0m \u001b[38;5;28;01mdel\u001b[39;00m(ali)\n\u001b[1;32m----> 2\u001b[0m \u001b[38;5;28mprint\u001b[39m(ali)\n",
      "\u001b[1;31mNameError\u001b[0m: name 'ali' is not defined"
     ]
    }
   ],
   "source": [
    "del(ali)\n",
    "print(ali)"
   ]
  },
  {
   "cell_type": "code",
   "execution_count": 133,
   "id": "5da669a3",
   "metadata": {},
   "outputs": [],
   "source": [
    "a = b = c = d = 30"
   ]
  },
  {
   "cell_type": "code",
   "execution_count": 15,
   "id": "9838ca73",
   "metadata": {},
   "outputs": [
    {
     "name": "stdout",
     "output_type": "stream",
     "text": [
      "30\n"
     ]
    }
   ],
   "source": [
    "print(a)"
   ]
  },
  {
   "cell_type": "code",
   "execution_count": 21,
   "id": "d71f7fa5",
   "metadata": {},
   "outputs": [],
   "source": [
    "pyhton , java = \"a\",\"b\""
   ]
  },
  {
   "cell_type": "code",
   "execution_count": 22,
   "id": "13a16969",
   "metadata": {},
   "outputs": [
    {
     "name": "stdout",
     "output_type": "stream",
     "text": [
      "a\tb\n"
     ]
    }
   ],
   "source": [
    "print(pyhton + \"\\t\" + java )"
   ]
  },
  {
   "cell_type": "code",
   "execution_count": 23,
   "id": "b4ba4982",
   "metadata": {},
   "outputs": [],
   "source": [
    "# Casting functions"
   ]
  },
  {
   "cell_type": "code",
   "execution_count": 135,
   "id": "3f780592",
   "metadata": {},
   "outputs": [
    {
     "data": {
      "text/plain": [
       "'30'"
      ]
     },
     "execution_count": 135,
     "metadata": {},
     "output_type": "execute_result"
    }
   ],
   "source": [
    "converted_b = str(a)\n",
    "converted_b\n"
   ]
  },
  {
   "cell_type": "code",
   "execution_count": 25,
   "id": "c38803e7",
   "metadata": {},
   "outputs": [
    {
     "name": "stdout",
     "output_type": "stream",
     "text": [
      "30\n"
     ]
    }
   ],
   "source": [
    "print(converted_b)"
   ]
  },
  {
   "cell_type": "code",
   "execution_count": 26,
   "id": "38779d6b",
   "metadata": {},
   "outputs": [
    {
     "data": {
      "text/plain": [
       "str"
      ]
     },
     "execution_count": 26,
     "metadata": {},
     "output_type": "execute_result"
    }
   ],
   "source": [
    "type(converted_b)"
   ]
  },
  {
   "cell_type": "code",
   "execution_count": 27,
   "id": "8ba5caa1",
   "metadata": {},
   "outputs": [],
   "source": [
    "c = 5.2"
   ]
  },
  {
   "cell_type": "code",
   "execution_count": 28,
   "id": "7770745e",
   "metadata": {},
   "outputs": [],
   "source": [
    "converted_c = int(c)"
   ]
  },
  {
   "cell_type": "code",
   "execution_count": 29,
   "id": "cb85a3a7",
   "metadata": {},
   "outputs": [
    {
     "data": {
      "text/plain": [
       "5"
      ]
     },
     "execution_count": 29,
     "metadata": {},
     "output_type": "execute_result"
    }
   ],
   "source": [
    "converted_c"
   ]
  },
  {
   "cell_type": "code",
   "execution_count": 30,
   "id": "614de40d",
   "metadata": {},
   "outputs": [
    {
     "data": {
      "text/plain": [
       "4.5"
      ]
     },
     "execution_count": 30,
     "metadata": {},
     "output_type": "execute_result"
    }
   ],
   "source": [
    "9 / 2 "
   ]
  },
  {
   "cell_type": "code",
   "execution_count": 31,
   "id": "995430c9",
   "metadata": {},
   "outputs": [
    {
     "data": {
      "text/plain": [
       "4"
      ]
     },
     "execution_count": 31,
     "metadata": {},
     "output_type": "execute_result"
    }
   ],
   "source": [
    "9//2"
   ]
  },
  {
   "cell_type": "code",
   "execution_count": 32,
   "id": "88adcf8f",
   "metadata": {},
   "outputs": [
    {
     "data": {
      "text/plain": [
       "6"
      ]
     },
     "execution_count": 32,
     "metadata": {},
     "output_type": "execute_result"
    }
   ],
   "source": [
    " 2 *3"
   ]
  },
  {
   "cell_type": "code",
   "execution_count": 33,
   "id": "69cb9cf1",
   "metadata": {},
   "outputs": [
    {
     "data": {
      "text/plain": [
       "8"
      ]
     },
     "execution_count": 33,
     "metadata": {},
     "output_type": "execute_result"
    }
   ],
   "source": [
    "2**3"
   ]
  },
  {
   "cell_type": "code",
   "execution_count": 34,
   "id": "2cc7c4f7",
   "metadata": {},
   "outputs": [
    {
     "data": {
      "text/plain": [
       "2.0"
      ]
     },
     "execution_count": 34,
     "metadata": {},
     "output_type": "execute_result"
    }
   ],
   "source": [
    "2 ** (2/2)"
   ]
  },
  {
   "cell_type": "code",
   "execution_count": 137,
   "id": "95567f79",
   "metadata": {},
   "outputs": [
    {
     "name": "stdout",
     "output_type": "stream",
     "text": [
      "my age is  24\n"
     ]
    }
   ],
   "source": [
    "old = \"my age is \"\n",
    "age = 24\n",
    "print(old ,age)"
   ]
  },
  {
   "cell_type": "code",
   "execution_count": 40,
   "id": "87da4386",
   "metadata": {},
   "outputs": [
    {
     "name": "stdout",
     "output_type": "stream",
     "text": [
      "my age is -24\n"
     ]
    }
   ],
   "source": [
    "print(old, age ,sep = \"-\" )"
   ]
  },
  {
   "cell_type": "code",
   "execution_count": 42,
   "id": "aa09ddf6",
   "metadata": {
    "scrolled": true
   },
   "outputs": [
    {
     "name": "stdout",
     "output_type": "stream",
     "text": [
      "my age is -24 my age is -24\n",
      "my age is -24\n"
     ]
    }
   ],
   "source": [
    "print(old, age ,sep = \"-\",end = \" \")\n",
    "print(old, age ,sep = \"-\" )\n",
    "print(old, age ,sep = \"-\" )"
   ]
  },
  {
   "cell_type": "code",
   "execution_count": 138,
   "id": "d0643738",
   "metadata": {},
   "outputs": [
    {
     "name": "stdout",
     "output_type": "stream",
     "text": [
      "my age is *24\n"
     ]
    }
   ],
   "source": [
    "print(old, \"24\",sep = \"*\")\n"
   ]
  },
  {
   "cell_type": "code",
   "execution_count": 49,
   "id": "4973918f",
   "metadata": {},
   "outputs": [
    {
     "name": "stdout",
     "output_type": "stream",
     "text": [
      "my age is *"
     ]
    }
   ],
   "source": [
    "print(old,end = \"*\")"
   ]
  },
  {
   "cell_type": "code",
   "execution_count": 140,
   "id": "3a7a3ca0",
   "metadata": {},
   "outputs": [
    {
     "name": "stdout",
     "output_type": "stream",
     "text": [
      "0\n"
     ]
    }
   ],
   "source": [
    "print(1 and 0)"
   ]
  },
  {
   "cell_type": "code",
   "execution_count": 51,
   "id": "82e751d8",
   "metadata": {},
   "outputs": [
    {
     "name": "stdout",
     "output_type": "stream",
     "text": [
      "False\n",
      "italy\n"
     ]
    }
   ],
   "source": [
    "print(not 1)\n",
    "print( 1 and \"türkiye\" and \"italy\")"
   ]
  },
  {
   "cell_type": "code",
   "execution_count": 52,
   "id": "1182a799",
   "metadata": {},
   "outputs": [
    {
     "name": "stdout",
     "output_type": "stream",
     "text": [
      "0\n"
     ]
    }
   ],
   "source": [
    "print(0 and \"türkiye\" and 1)"
   ]
  },
  {
   "cell_type": "code",
   "execution_count": 53,
   "id": "7c71365e",
   "metadata": {},
   "outputs": [
    {
     "name": "stdout",
     "output_type": "stream",
     "text": [
      "\n"
     ]
    }
   ],
   "source": [
    "print(\"\" and \"türkiye \" and  1)"
   ]
  },
  {
   "cell_type": "code",
   "execution_count": 54,
   "id": "9e18eb94",
   "metadata": {},
   "outputs": [
    {
     "name": "stdout",
     "output_type": "stream",
     "text": [
      "\n"
     ]
    }
   ],
   "source": [
    "print(\"\" and \"türkiye \" and  1)"
   ]
  },
  {
   "cell_type": "code",
   "execution_count": 56,
   "id": "8c7a8a4a",
   "metadata": {},
   "outputs": [
    {
     "name": "stdout",
     "output_type": "stream",
     "text": [
      "False\n"
     ]
    }
   ],
   "source": [
    "print(False and \"türkiye \" and  1)"
   ]
  },
  {
   "cell_type": "code",
   "execution_count": 58,
   "id": "a9e7ec8c",
   "metadata": {},
   "outputs": [
    {
     "data": {
      "text/plain": [
       "'hellohellohello'"
      ]
     },
     "execution_count": 58,
     "metadata": {},
     "output_type": "execute_result"
    }
   ],
   "source": [
    "\"hello\" * 3"
   ]
  },
  {
   "cell_type": "code",
   "execution_count": 59,
   "id": "8974c1ae",
   "metadata": {},
   "outputs": [],
   "source": [
    "#String Methods\n",
    "\n",
    "web_adress = \"www.datascience.com\""
   ]
  },
  {
   "cell_type": "code",
   "execution_count": 62,
   "id": "eef4db7a",
   "metadata": {},
   "outputs": [
    {
     "data": {
      "text/plain": [
       "False"
      ]
     },
     "execution_count": 62,
     "metadata": {},
     "output_type": "execute_result"
    }
   ],
   "source": [
    "web_adress.startswith(\".com\")"
   ]
  },
  {
   "cell_type": "code",
   "execution_count": 63,
   "id": "fd8752f4",
   "metadata": {},
   "outputs": [
    {
     "data": {
      "text/plain": [
       "True"
      ]
     },
     "execution_count": 63,
     "metadata": {},
     "output_type": "execute_result"
    }
   ],
   "source": [
    "web_adress.endswith(\".com\")"
   ]
  },
  {
   "cell_type": "code",
   "execution_count": 64,
   "id": "55425c84",
   "metadata": {},
   "outputs": [
    {
     "data": {
      "text/plain": [
       "True"
      ]
     },
     "execution_count": 64,
     "metadata": {},
     "output_type": "execute_result"
    }
   ],
   "source": [
    "web_adress.startswith(\"data\",4,12)"
   ]
  },
  {
   "cell_type": "code",
   "execution_count": 65,
   "id": "d05c6b20",
   "metadata": {},
   "outputs": [],
   "source": [
    "name = \"hüseyin cataloglu\""
   ]
  },
  {
   "cell_type": "code",
   "execution_count": 70,
   "id": "93a424b4",
   "metadata": {},
   "outputs": [
    {
     "name": "stdout",
     "output_type": "stream",
     "text": [
      "hüseyin cetaloglu\n"
     ]
    }
   ],
   "source": [
    "print(name.replace(\"a\",\"e\", 1))\n"
   ]
  },
  {
   "cell_type": "code",
   "execution_count": 71,
   "id": "5434b596",
   "metadata": {},
   "outputs": [
    {
     "name": "stdout",
     "output_type": "stream",
     "text": [
      "HÜSEYIN CATALOGLU\n"
     ]
    }
   ],
   "source": [
    "print(name.swapcase())"
   ]
  },
  {
   "cell_type": "code",
   "execution_count": 72,
   "id": "ed180a24",
   "metadata": {},
   "outputs": [
    {
     "name": "stdout",
     "output_type": "stream",
     "text": [
      "Hüseyin cataloglu\n",
      "HÜSEYIN CATALOGLU\n",
      "Hüseyin Cataloglu\n"
     ]
    }
   ],
   "source": [
    "print(name.capitalize())\n",
    "print(name.upper())\n",
    "print(name.title())"
   ]
  },
  {
   "cell_type": "code",
   "execution_count": 75,
   "id": "2280208f",
   "metadata": {},
   "outputs": [
    {
     "name": "stdout",
     "output_type": "stream",
     "text": [
      "hüseyin cataloglu\n"
     ]
    }
   ],
   "source": [
    "print(name.strip())"
   ]
  },
  {
   "cell_type": "code",
   "execution_count": 77,
   "id": "78eb3764",
   "metadata": {},
   "outputs": [
    {
     "name": "stdout",
     "output_type": "stream",
     "text": [
      "nursena\n",
      "hüseyin cataloglu\n"
     ]
    }
   ],
   "source": [
    "isim = \"  nursena  \"\n",
    "print(isim.strip())\n",
    "print(name.strip(\"a\"))"
   ]
  },
  {
   "cell_type": "code",
   "execution_count": 82,
   "id": "79fd9a5a",
   "metadata": {},
   "outputs": [
    {
     "name": "stdout",
     "output_type": "stream",
     "text": [
      " a'yı 1'den kurtarınız\n",
      "1\n",
      " a'yı 1'den kurtarınız\n",
      "1\n",
      " a'yı 1'den kurtarınız\n",
      "1\n",
      " a'yı 1'den kurtarınız\n",
      "1\n",
      " a'yı 1'den kurtarınız\n",
      "2\n",
      "2\n"
     ]
    }
   ],
   "source": [
    "a = 1\n",
    "while a == 1:\n",
    "    print(\" a'yı 1'den kurtarınız\")\n",
    "    a = int(input())\n",
    "print(a)"
   ]
  },
  {
   "cell_type": "code",
   "execution_count": 84,
   "id": "a45b164f",
   "metadata": {},
   "outputs": [
    {
     "name": "stdout",
     "output_type": "stream",
     "text": [
      "n u r s e n a\n"
     ]
    }
   ],
   "source": [
    "print(*isim.strip())"
   ]
  },
  {
   "cell_type": "code",
   "execution_count": 88,
   "id": "40762e20",
   "metadata": {},
   "outputs": [
    {
     "name": "stdout",
     "output_type": "stream",
     "text": [
      "where would you want to live in the future ? England\n",
      "ı want to live in England for the future\n",
      "ı want to live in turkey for the future\n",
      "please type your age24\n",
      "please type your height1.75\n",
      "ı am 24 years old, 1.75 height\n"
     ]
    }
   ],
   "source": [
    "#String Formatting\n",
    "\n",
    "mesaj = \"ı want to live in %s for the future\"\n",
    "place_wanted = input(\"where would you want to live in the future ? \")\n",
    "print(mesaj %(place_wanted))\n",
    "print(mesaj %\"turkey\")\n",
    "\n",
    "age = int(input(\"please type your age :\"))\n",
    "height = float(input(\"please type your height :\"))\n",
    "print(\"ı am %d years old, %.2f height\" %(age,height))"
   ]
  },
  {
   "cell_type": "markdown",
   "id": "4ac1cc0f",
   "metadata": {},
   "source": [
    "ANOTHER WAY OF STRİNG FORMATTİNG"
   ]
  },
  {
   "cell_type": "code",
   "execution_count": 89,
   "id": "d38da165",
   "metadata": {},
   "outputs": [
    {
     "name": "stdout",
     "output_type": "stream",
     "text": [
      "ı have bought 2 kilos strawberry from the bazaar \n",
      "ı have bought 5 kilos apple from the bazaar \n",
      "ı have bought 2 kilos strawberry from the bazaar \n"
     ]
    }
   ],
   "source": [
    "bazaar = \"ı have bought {} kilos {} from the bazaar \"\n",
    "kilos = 2\n",
    "fruit = \"strawberry\"\n",
    "print(bazaar.format(kilos,fruit))\n",
    "print(bazaar.format(5,\"apple\"))\n",
    "print(\"ı have bought {} kilos {} from the bazaar \".format(kilos,fruit))\n"
   ]
  },
  {
   "cell_type": "code",
   "execution_count": 90,
   "id": "19c4527f",
   "metadata": {},
   "outputs": [
    {
     "name": "stdout",
     "output_type": "stream",
     "text": [
      "fenerbahçe vs galatasaray matches have just ended 5 - 3\n"
     ]
    }
   ],
   "source": [
    "print(\"{3} vs {2} matches have just ended {1} - {0}\".format(3,5,\"galatasaray\",\"fenerbahçe\"))"
   ]
  },
  {
   "cell_type": "markdown",
   "id": "5b04b218",
   "metadata": {},
   "source": [
    "F-String methodu"
   ]
  },
  {
   "cell_type": "code",
   "execution_count": 94,
   "id": "a2ae8dd9",
   "metadata": {},
   "outputs": [
    {
     "name": "stdout",
     "output_type": "stream",
     "text": [
      "ı have bought 2 kilos peach from the bazaar\n",
      "My name is HÜSEYIN\n",
      " 2 exponential 3 is 8\n"
     ]
    }
   ],
   "source": [
    "kilos = 2\n",
    "fruit = \"peach\"\n",
    "print(f\"ı have bought {kilos} kilos {fruit} from the bazaar\")\n",
    "# we can make operations or method calling by f-string\n",
    "\n",
    "print(f\"My name is {'hüseyin'.upper()}\")\n",
    "print(f\" 2 exponential 3 is {2**3}\")\n",
    "\n",
    "\n"
   ]
  },
  {
   "cell_type": "markdown",
   "id": "821c5be5",
   "metadata": {},
   "source": [
    "Introduction To Lists"
   ]
  },
  {
   "cell_type": "markdown",
   "id": "99dd72b4",
   "metadata": {},
   "source": [
    "Lists are changeable.\n",
    "It provides the opportunity of containing different data types in it \n",
    "They are sorted.\n",
    "WE can create lists with [] or list() method\n"
   ]
  },
  {
   "cell_type": "code",
   "execution_count": 1,
   "id": "951e20f1",
   "metadata": {},
   "outputs": [
    {
     "name": "stdout",
     "output_type": "stream",
     "text": [
      "['liverpool', 'man.cit', 'astonvilla', 'everton']\n",
      "<class 'list'>\n"
     ]
    }
   ],
   "source": [
    "premier_league = [\"liverpool\",\"man.cit\",\"astonvilla\",\"everton\"]\n",
    "print(premier_league)\n",
    "print(type(premier_league))"
   ]
  },
  {
   "cell_type": "code",
   "execution_count": 3,
   "id": "a7bc18ab",
   "metadata": {},
   "outputs": [
    {
     "data": {
      "text/plain": [
       "[23, 12.4, True, 'ali', ['liverpool', 'man.cit', 'astonvilla', 'everton']]"
      ]
     },
     "execution_count": 3,
     "metadata": {},
     "output_type": "execute_result"
    }
   ],
   "source": [
    "list_example = [23,12.4,True,\"ali\",premier_league]\n",
    "list_example"
   ]
  },
  {
   "cell_type": "code",
   "execution_count": 4,
   "id": "f32fedfe",
   "metadata": {},
   "outputs": [
    {
     "data": {
      "text/plain": [
       "5"
      ]
     },
     "execution_count": 4,
     "metadata": {},
     "output_type": "execute_result"
    }
   ],
   "source": [
    "len(list_example)"
   ]
  },
  {
   "cell_type": "code",
   "execution_count": 6,
   "id": "ed6e6cf6",
   "metadata": {},
   "outputs": [
    {
     "data": {
      "text/plain": [
       "tuple"
      ]
     },
     "execution_count": 6,
     "metadata": {},
     "output_type": "execute_result"
    }
   ],
   "source": [
    "variable = 23, 12.4, True, 'ali', ['liverpool', 'man.cit', 'astonvilla', 'everton']\n",
    "type(variable)"
   ]
  },
  {
   "cell_type": "code",
   "execution_count": 9,
   "id": "66be4d5e",
   "metadata": {},
   "outputs": [
    {
     "name": "stdout",
     "output_type": "stream",
     "text": [
      "[23, 12.4, True, 'ali', ['liverpool', 'man.cit', 'astonvilla', 'everton']]\n"
     ]
    },
    {
     "data": {
      "text/plain": [
       "list"
      ]
     },
     "execution_count": 9,
     "metadata": {},
     "output_type": "execute_result"
    }
   ],
   "source": [
    "new_list = list(variable)\n",
    "print(new_list)\n",
    "type(new_list)"
   ]
  },
  {
   "cell_type": "code",
   "execution_count": 16,
   "id": "4ef23d5b",
   "metadata": {},
   "outputs": [
    {
     "name": "stdout",
     "output_type": "stream",
     "text": [
      "23\n",
      "['liverpool', 'man.cit', 'astonvilla', 'everton']\n"
     ]
    },
    {
     "data": {
      "text/plain": [
       "[12.4, True, 'ali']"
      ]
     },
     "execution_count": 16,
     "metadata": {},
     "output_type": "execute_result"
    }
   ],
   "source": [
    "#İndexing for Lists \n",
    "print(new_list[0])\n",
    "print((new_list[4]))\n",
    "new_list[4][1]\n",
    "new_list[1:4]"
   ]
  },
  {
   "cell_type": "code",
   "execution_count": 17,
   "id": "bce19eae",
   "metadata": {},
   "outputs": [
    {
     "data": {
      "text/plain": [
       "['turkey', 'greece', 'egypt', 'bulgaria']"
      ]
     },
     "execution_count": 17,
     "metadata": {},
     "output_type": "execute_result"
    }
   ],
   "source": [
    "country_list = [\"turkey\", \"greece\",\"egypt\",\"bulgaria\"]\n",
    "country_list"
   ]
  },
  {
   "cell_type": "code",
   "execution_count": 25,
   "id": "4dbd1fd3",
   "metadata": {},
   "outputs": [],
   "source": [
    "town_list_turkey = [\"ankara\",\"izmir\",\"istanbul\"]"
   ]
  },
  {
   "cell_type": "code",
   "execution_count": 28,
   "id": "59543775",
   "metadata": {},
   "outputs": [
    {
     "name": "stdout",
     "output_type": "stream",
     "text": [
      "['ankara', 'izmir', 'istanbul', 'adana']\n",
      "['ankara', 'izmir', 'istanbul']\n",
      "['ankara', 'izmir', 'istanbul', 'adana']\n"
     ]
    }
   ],
   "source": [
    "print(town_list_turkey + [\"adana\"])\n",
    "print(town_list_turkey)\n",
    "town_list_turkey = town_list_turkey + [\"adana\"]\n",
    "print(town_list_turkey)"
   ]
  },
  {
   "cell_type": "code",
   "execution_count": 30,
   "id": "20c67124",
   "metadata": {},
   "outputs": [
    {
     "data": {
      "text/plain": [
       "['ardahan', 'izmir', 'istanbul', 'adana']"
      ]
     },
     "execution_count": 30,
     "metadata": {},
     "output_type": "execute_result"
    }
   ],
   "source": [
    "#Changing list members \n",
    "town_list_turkey [0] = \"ardahan\"\n",
    "town_list_turkey"
   ]
  },
  {
   "cell_type": "code",
   "execution_count": 31,
   "id": "567e8c40",
   "metadata": {},
   "outputs": [
    {
     "data": {
      "text/plain": [
       "['mersin', 'osmaniye', 'gaziantep', 'adana']"
      ]
     },
     "execution_count": 31,
     "metadata": {},
     "output_type": "execute_result"
    }
   ],
   "source": [
    "town_list_turkey [0:3]  = \"mersin\",\"osmaniye\",\"gaziantep\"\n",
    "town_list_turkey"
   ]
  },
  {
   "cell_type": "code",
   "execution_count": 32,
   "id": "eebbf93b",
   "metadata": {},
   "outputs": [
    {
     "data": {
      "text/plain": [
       "['mersin', 'osmaniye', 'gaziantep']"
      ]
     },
     "execution_count": 32,
     "metadata": {},
     "output_type": "execute_result"
    }
   ],
   "source": [
    "#deleting members of list\n",
    "del town_list_turkey[3]\n",
    "town_list_turkey"
   ]
  },
  {
   "cell_type": "code",
   "execution_count": 35,
   "id": "2848b9e0",
   "metadata": {},
   "outputs": [
    {
     "data": {
      "text/plain": [
       "['__add__',\n",
       " '__class__',\n",
       " '__class_getitem__',\n",
       " '__contains__',\n",
       " '__delattr__',\n",
       " '__delitem__',\n",
       " '__dir__',\n",
       " '__doc__',\n",
       " '__eq__',\n",
       " '__format__',\n",
       " '__ge__',\n",
       " '__getattribute__',\n",
       " '__getitem__',\n",
       " '__getstate__',\n",
       " '__gt__',\n",
       " '__hash__',\n",
       " '__iadd__',\n",
       " '__imul__',\n",
       " '__init__',\n",
       " '__init_subclass__',\n",
       " '__iter__',\n",
       " '__le__',\n",
       " '__len__',\n",
       " '__lt__',\n",
       " '__mul__',\n",
       " '__ne__',\n",
       " '__new__',\n",
       " '__reduce__',\n",
       " '__reduce_ex__',\n",
       " '__repr__',\n",
       " '__reversed__',\n",
       " '__rmul__',\n",
       " '__setattr__',\n",
       " '__setitem__',\n",
       " '__sizeof__',\n",
       " '__str__',\n",
       " '__subclasshook__',\n",
       " 'append',\n",
       " 'clear',\n",
       " 'copy',\n",
       " 'count',\n",
       " 'extend',\n",
       " 'index',\n",
       " 'insert',\n",
       " 'pop',\n",
       " 'remove',\n",
       " 'reverse',\n",
       " 'sort']"
      ]
     },
     "execution_count": 35,
     "metadata": {},
     "output_type": "execute_result"
    }
   ],
   "source": [
    "# List methods\n",
    "dir(list)\n",
    "\n"
   ]
  },
  {
   "cell_type": "code",
   "execution_count": 37,
   "id": "f185ce08",
   "metadata": {},
   "outputs": [
    {
     "data": {
      "text/plain": [
       "[10, 20, 30, 40, 50, 60, 70, 70]"
      ]
     },
     "execution_count": 37,
     "metadata": {},
     "output_type": "execute_result"
    }
   ],
   "source": [
    "#append method\n",
    "int_list = [10,20,30,40,50,60,70]\n",
    "int_list.append(70)\n",
    "int_list\n"
   ]
  },
  {
   "cell_type": "code",
   "execution_count": 38,
   "id": "06a57c1e",
   "metadata": {},
   "outputs": [
    {
     "data": {
      "text/plain": [
       "[10, 20, 30, 40, 50, 60, 70]"
      ]
     },
     "execution_count": 38,
     "metadata": {},
     "output_type": "execute_result"
    }
   ],
   "source": [
    "int_list.remove(70)\n",
    "int_list"
   ]
  },
  {
   "cell_type": "code",
   "execution_count": 39,
   "id": "22a60b6c",
   "metadata": {},
   "outputs": [
    {
     "data": {
      "text/plain": [
       "[10, 15, 20, 30, 40, 50, 60, 70]"
      ]
     },
     "execution_count": 39,
     "metadata": {},
     "output_type": "execute_result"
    }
   ],
   "source": [
    "int_list.insert(1,15)\n",
    "int_list"
   ]
  },
  {
   "cell_type": "code",
   "execution_count": 40,
   "id": "3c6a3491",
   "metadata": {},
   "outputs": [
    {
     "data": {
      "text/plain": [
       "20"
      ]
     },
     "execution_count": 40,
     "metadata": {},
     "output_type": "execute_result"
    }
   ],
   "source": [
    "int_list.pop(2)"
   ]
  },
  {
   "cell_type": "code",
   "execution_count": 41,
   "id": "974ef2a0",
   "metadata": {},
   "outputs": [
    {
     "data": {
      "text/plain": [
       "[10, 15, 30, 40, 50, 60, 70]"
      ]
     },
     "execution_count": 41,
     "metadata": {},
     "output_type": "execute_result"
    }
   ],
   "source": [
    "int_list"
   ]
  },
  {
   "cell_type": "code",
   "execution_count": 143,
   "id": "cdffd913",
   "metadata": {},
   "outputs": [
    {
     "name": "stdout",
     "output_type": "stream",
     "text": [
      "<class 'tuple'>\n"
     ]
    },
    {
     "data": {
      "text/plain": [
       "('c', 'python', 'j', 'C', 'R', 'r', 'o', 'O')"
      ]
     },
     "execution_count": 143,
     "metadata": {},
     "output_type": "execute_result"
    }
   ],
   "source": [
    "string_list = [\"c\",\"python\",\"j\",\"C\",\"R\",\"r\",\"o\",\"O\"]\n",
    "\n",
    "string_list"
   ]
  },
  {
   "cell_type": "code",
   "execution_count": 43,
   "id": "1d5bfa1b",
   "metadata": {},
   "outputs": [
    {
     "data": {
      "text/plain": [
       "['C', 'O', 'R', 'c', 'j', 'o', 'python', 'r']"
      ]
     },
     "execution_count": 43,
     "metadata": {},
     "output_type": "execute_result"
    }
   ],
   "source": [
    "string_list.sort()\n",
    "string_list"
   ]
  },
  {
   "cell_type": "markdown",
   "id": "862ff2aa",
   "metadata": {},
   "source": [
    "# Introduction to Tuples"
   ]
  },
  {
   "cell_type": "markdown",
   "id": "7745f4b9",
   "metadata": {},
   "source": [
    "Tuples are immutable\n"
   ]
  },
  {
   "cell_type": "markdown",
   "id": "e00ab7a3",
   "metadata": {},
   "source": [
    "they are pretty fast when compared to other data types. it allocates less storage fields,spaces"
   ]
  },
  {
   "cell_type": "markdown",
   "id": "5ef5e5e7",
   "metadata": {},
   "source": [
    "It can contain different data types"
   ]
  },
  {
   "cell_type": "markdown",
   "id": "84a98501",
   "metadata": {},
   "source": [
    "we can create tuples by normal paranthesis () or tuple() function"
   ]
  },
  {
   "cell_type": "code",
   "execution_count": 144,
   "id": "0cdb8345",
   "metadata": {},
   "outputs": [
    {
     "name": "stdout",
     "output_type": "stream",
     "text": [
      "('h', 'e', 'l', 'l', 'o')\n"
     ]
    },
    {
     "data": {
      "text/plain": [
       "tuple"
      ]
     },
     "execution_count": 144,
     "metadata": {},
     "output_type": "execute_result"
    }
   ],
   "source": [
    "tuple_example = (\"h\",\"e\",\"l\",\"l\",\"o\")\n",
    "# we can create a tuple like this : variable = \"3\",3,5,6,True,\"4\",\"hüseyin\"\n",
    "print(tuple_example)\n",
    "type(tuple_example)"
   ]
  },
  {
   "cell_type": "code",
   "execution_count": 51,
   "id": "324af3a7",
   "metadata": {},
   "outputs": [
    {
     "name": "stdout",
     "output_type": "stream",
     "text": [
      "('h', 'e', 'l', 'l', 'o')\n"
     ]
    },
    {
     "data": {
      "text/plain": [
       "tuple"
      ]
     },
     "execution_count": 51,
     "metadata": {},
     "output_type": "execute_result"
    }
   ],
   "source": [
    "#Converting string to tuple\n",
    "tuple_word = \"hello\"\n",
    "tuple_example2 = tuple(tuple_word)\n",
    "print(tuple_example2)\n",
    "type(tuple_example2)"
   ]
  },
  {
   "cell_type": "code",
   "execution_count": 52,
   "id": "da5d4544",
   "metadata": {},
   "outputs": [
    {
     "name": "stdout",
     "output_type": "stream",
     "text": [
      "(10, 2, True, 'ali', 'mehmet', 5)\n"
     ]
    },
    {
     "data": {
      "text/plain": [
       "tuple"
      ]
     },
     "execution_count": 52,
     "metadata": {},
     "output_type": "execute_result"
    }
   ],
   "source": [
    "#Converting List to tuple\n",
    "yeni_liste = [10,2,True,\"ali\",\"mehmet\",5]\n",
    "new_tuple = tuple(yeni_liste)\n",
    "print(new_tuple)\n",
    "type(new_tuple)"
   ]
  },
  {
   "cell_type": "code",
   "execution_count": 145,
   "id": "1749d1f5",
   "metadata": {},
   "outputs": [
    {
     "name": "stdout",
     "output_type": "stream",
     "text": [
      "('hello', 3, 4, 5, 'data', 'science')\n"
     ]
    },
    {
     "data": {
      "text/plain": [
       "tuple"
      ]
     },
     "execution_count": 145,
     "metadata": {},
     "output_type": "execute_result"
    }
   ],
   "source": [
    "tuple_variable = \"hello\",3,4,5,\"data\",\"science\"\n",
    "print(tuple_variable)\n",
    "type(tuple_variable)"
   ]
  },
  {
   "cell_type": "code",
   "execution_count": 56,
   "id": "3ff7f19b",
   "metadata": {},
   "outputs": [
    {
     "name": "stdout",
     "output_type": "stream",
     "text": [
      "<class 'tuple'>\n"
     ]
    },
    {
     "data": {
      "text/plain": [
       "str"
      ]
     },
     "execution_count": 56,
     "metadata": {},
     "output_type": "execute_result"
    }
   ],
   "source": [
    "# one membered tuple\n",
    "one_tuple = (\"hello\",)\n",
    "print(type(one_tuple))\n",
    "#lets try without comma\n",
    "one_tuple2 = (\"hello\")\n",
    "type(one_tuple2)"
   ]
  },
  {
   "cell_type": "markdown",
   "id": "b996c9e1",
   "metadata": {},
   "source": [
    "# # İndexing and Sliceing for Tuples"
   ]
  },
  {
   "cell_type": "code",
   "execution_count": 57,
   "id": "510e35d2",
   "metadata": {},
   "outputs": [],
   "source": [
    "my_tuple = (\"data\",\"science\",100,200,[10,\"python\",25],(8,9,\"number\"))"
   ]
  },
  {
   "cell_type": "code",
   "execution_count": 58,
   "id": "d6a72113",
   "metadata": {},
   "outputs": [
    {
     "name": "stdout",
     "output_type": "stream",
     "text": [
      "('data', 'science', 100, 200, [10, 'python', 25], (8, 9, 'number'))\n"
     ]
    }
   ],
   "source": [
    "print(my_tuple)"
   ]
  },
  {
   "cell_type": "code",
   "execution_count": 59,
   "id": "8b8d9fe0",
   "metadata": {},
   "outputs": [
    {
     "data": {
      "text/plain": [
       "100"
      ]
     },
     "execution_count": 59,
     "metadata": {},
     "output_type": "execute_result"
    }
   ],
   "source": [
    "my_tuple[2]"
   ]
  },
  {
   "cell_type": "code",
   "execution_count": 60,
   "id": "d8c4788f",
   "metadata": {},
   "outputs": [
    {
     "data": {
      "text/plain": [
       "(100, 200)"
      ]
     },
     "execution_count": 60,
     "metadata": {},
     "output_type": "execute_result"
    }
   ],
   "source": [
    "my_tuple[2 : 4]"
   ]
  },
  {
   "cell_type": "code",
   "execution_count": 61,
   "id": "38e83341",
   "metadata": {},
   "outputs": [
    {
     "data": {
      "text/plain": [
       "[10, 'python', 25]"
      ]
     },
     "execution_count": 61,
     "metadata": {},
     "output_type": "execute_result"
    }
   ],
   "source": [
    "my_tuple[4]"
   ]
  },
  {
   "cell_type": "code",
   "execution_count": 62,
   "id": "7ad2f4a1",
   "metadata": {},
   "outputs": [
    {
     "data": {
      "text/plain": [
       "('data', 100, [10, 'python', 25])"
      ]
     },
     "execution_count": 62,
     "metadata": {},
     "output_type": "execute_result"
    }
   ],
   "source": [
    "my_tuple[:5:2]"
   ]
  },
  {
   "cell_type": "code",
   "execution_count": 64,
   "id": "fde94dfb",
   "metadata": {},
   "outputs": [
    {
     "ename": "TypeError",
     "evalue": "'tuple' object does not support item assignment",
     "output_type": "error",
     "traceback": [
      "\u001b[1;31m---------------------------------------------------------------------------\u001b[0m",
      "\u001b[1;31mTypeError\u001b[0m                                 Traceback (most recent call last)",
      "Cell \u001b[1;32mIn[64], line 2\u001b[0m\n\u001b[0;32m      1\u001b[0m \u001b[38;5;66;03m## tuples are immutable\u001b[39;00m\n\u001b[1;32m----> 2\u001b[0m my_tuple[\u001b[38;5;241m0\u001b[39m] \u001b[38;5;241m=\u001b[39m \u001b[38;5;124m\"\u001b[39m\u001b[38;5;124mmachine learning\u001b[39m\u001b[38;5;124m\"\u001b[39m\n",
      "\u001b[1;31mTypeError\u001b[0m: 'tuple' object does not support item assignment"
     ]
    }
   ],
   "source": [
    "## tuples are immutable\n",
    "my_tuple[0] = \"machine learning\""
   ]
  },
  {
   "cell_type": "markdown",
   "id": "8a3f37b0",
   "metadata": {},
   "source": [
    "# # DİCTİONARY"
   ]
  },
  {
   "cell_type": "markdown",
   "id": "498c80db",
   "metadata": {},
   "source": [
    "Dictionaries can have multiple data types"
   ]
  },
  {
   "cell_type": "markdown",
   "id": "2a95fbc7",
   "metadata": {},
   "source": [
    "They are unordered, not ordered by an index sequence"
   ]
  },
  {
   "cell_type": "markdown",
   "id": "3f530763",
   "metadata": {},
   "source": [
    "Members can be replaced"
   ]
  },
  {
   "cell_type": "markdown",
   "id": "14eed616",
   "metadata": {},
   "source": [
    "declared by fancy paranthesis"
   ]
  },
  {
   "cell_type": "markdown",
   "id": "30a425b2",
   "metadata": {},
   "source": [
    "Key() : Value() = item , items form dictionaries"
   ]
  },
  {
   "cell_type": "markdown",
   "id": "200fd9a5",
   "metadata": {},
   "source": [
    "They can be composed by {} or dict() function"
   ]
  },
  {
   "cell_type": "code",
   "execution_count": 66,
   "id": "307dd48e",
   "metadata": {},
   "outputs": [
    {
     "name": "stdout",
     "output_type": "stream",
     "text": [
      "{'car': 'lamborghini', 'airplane': 'uçak'}\n",
      "<class 'dict'>\n"
     ]
    }
   ],
   "source": [
    "vehicle = {\"car\" : \"lamborghini\" , \"airplane\" : \"uçak\"}\n",
    "print(vehicle, type(vehicle), sep = \"\\n\")"
   ]
  },
  {
   "cell_type": "code",
   "execution_count": 68,
   "id": "ddc3c966",
   "metadata": {},
   "outputs": [
    {
     "name": "stdout",
     "output_type": "stream",
     "text": [
      "{'car': 'mercedes', 'airplane': 'airbus'}\t<class 'dict'>\n"
     ]
    }
   ],
   "source": [
    "#WE DONT USE QUOTES FOR KEY İN DİCT() FUNC\n",
    "vehicle2 = dict(car = \"mercedes\", airplane = \"airbus\")\n",
    "print(vehicle2 , type(vehicle2) , sep = \"\\t\")"
   ]
  },
  {
   "cell_type": "code",
   "execution_count": 87,
   "id": "978dfdfd",
   "metadata": {},
   "outputs": [
    {
     "data": {
      "text/plain": [
       "'berlin'"
      ]
     },
     "execution_count": 87,
     "metadata": {},
     "output_type": "execute_result"
    }
   ],
   "source": [
    "capital = {\"usa\" : \"washington\",\n",
    "          \"germany\" : \"berlin\",\n",
    "          \"uk\" : \"london\"}\n",
    "#if we want to reach values, we should type its key\n",
    "capital[\"germany\"]"
   ]
  },
  {
   "cell_type": "code",
   "execution_count": 76,
   "id": "52b0dc44",
   "metadata": {},
   "outputs": [],
   "source": [
    "school_notes = {\"school1\" : {\"classA\" : 65 ,\n",
    "                            \"ClassB\": 75,\n",
    "                            \"ClassC\" : 87},\n",
    "               \"School2\" : {\"classA\" : 65,\n",
    "                              \"ClassB\" : 66,\n",
    "                              \"ClassC\" : 89}}"
   ]
  },
  {
   "cell_type": "code",
   "execution_count": 77,
   "id": "d673c457",
   "metadata": {},
   "outputs": [
    {
     "name": "stdout",
     "output_type": "stream",
     "text": [
      "{'classA': 65, 'ClassB': 75, 'ClassC': 87}\n"
     ]
    }
   ],
   "source": [
    "print(school_notes[\"school1\"])"
   ]
  },
  {
   "cell_type": "code",
   "execution_count": 84,
   "id": "30e9887a",
   "metadata": {},
   "outputs": [
    {
     "name": "stdout",
     "output_type": "stream",
     "text": [
      "87\n"
     ]
    }
   ],
   "source": [
    "print(school_notes[\"school1\"][\"ClassC\"])"
   ]
  },
  {
   "cell_type": "code",
   "execution_count": 88,
   "id": "f927d3f2",
   "metadata": {},
   "outputs": [
    {
     "data": {
      "text/plain": [
       "{'usa': 'washington', 'germany': 'berlin', 'uk': 'london', 'turkey': 'Ankara'}"
      ]
     },
     "execution_count": 88,
     "metadata": {},
     "output_type": "execute_result"
    }
   ],
   "source": [
    "#ADDİNG MEMBERS & AND DELETİNG & Changing\n",
    "capital [\"turkey\"] = \"Ankara\"\n",
    "capital"
   ]
  },
  {
   "cell_type": "code",
   "execution_count": 89,
   "id": "35c45ae3",
   "metadata": {},
   "outputs": [
    {
     "data": {
      "text/plain": [
       "{'usa': 'washington',\n",
       " 'germany': 'Stutgart',\n",
       " 'uk': 'london',\n",
       " 'turkey': 'Ankara'}"
      ]
     },
     "execution_count": 89,
     "metadata": {},
     "output_type": "execute_result"
    }
   ],
   "source": [
    "capital [\"germany\"] = \"Stutgart\"\n",
    "capital"
   ]
  },
  {
   "cell_type": "code",
   "execution_count": 90,
   "id": "a69efaca",
   "metadata": {},
   "outputs": [
    {
     "data": {
      "text/plain": [
       "{'usa': 'washington', 'uk': 'london', 'turkey': 'Ankara'}"
      ]
     },
     "execution_count": 90,
     "metadata": {},
     "output_type": "execute_result"
    }
   ],
   "source": [
    "del(capital[\"germany\"])\n",
    "capital"
   ]
  },
  {
   "cell_type": "code",
   "execution_count": 94,
   "id": "dfd9b068",
   "metadata": {},
   "outputs": [
    {
     "data": {
      "text/plain": [
       "['__class__',\n",
       " '__class_getitem__',\n",
       " '__contains__',\n",
       " '__delattr__',\n",
       " '__delitem__',\n",
       " '__dir__',\n",
       " '__doc__',\n",
       " '__eq__',\n",
       " '__format__',\n",
       " '__ge__',\n",
       " '__getattribute__',\n",
       " '__getitem__',\n",
       " '__getstate__',\n",
       " '__gt__',\n",
       " '__hash__',\n",
       " '__init__',\n",
       " '__init_subclass__',\n",
       " '__ior__',\n",
       " '__iter__',\n",
       " '__le__',\n",
       " '__len__',\n",
       " '__lt__',\n",
       " '__ne__',\n",
       " '__new__',\n",
       " '__or__',\n",
       " '__reduce__',\n",
       " '__reduce_ex__',\n",
       " '__repr__',\n",
       " '__reversed__',\n",
       " '__ror__',\n",
       " '__setattr__',\n",
       " '__setitem__',\n",
       " '__sizeof__',\n",
       " '__str__',\n",
       " '__subclasshook__',\n",
       " 'clear',\n",
       " 'copy',\n",
       " 'fromkeys',\n",
       " 'get',\n",
       " 'items',\n",
       " 'keys',\n",
       " 'pop',\n",
       " 'popitem',\n",
       " 'setdefault',\n",
       " 'update',\n",
       " 'values']"
      ]
     },
     "execution_count": 94,
     "metadata": {},
     "output_type": "execute_result"
    }
   ],
   "source": [
    "dir(dict)"
   ]
  },
  {
   "cell_type": "code",
   "execution_count": 95,
   "id": "eb6fc5f7",
   "metadata": {},
   "outputs": [
    {
     "data": {
      "text/plain": [
       "dict_items([('usa', 'washington'), ('uk', 'london'), ('turkey', 'Ankara')])"
      ]
     },
     "execution_count": 95,
     "metadata": {},
     "output_type": "execute_result"
    }
   ],
   "source": [
    "capital.items()"
   ]
  },
  {
   "cell_type": "code",
   "execution_count": 96,
   "id": "8d362786",
   "metadata": {},
   "outputs": [
    {
     "data": {
      "text/plain": [
       "dict_keys(['usa', 'uk', 'turkey'])"
      ]
     },
     "execution_count": 96,
     "metadata": {},
     "output_type": "execute_result"
    }
   ],
   "source": [
    "capital.keys()"
   ]
  },
  {
   "cell_type": "code",
   "execution_count": 97,
   "id": "4cc6f9a2",
   "metadata": {},
   "outputs": [
    {
     "data": {
      "text/plain": [
       "dict_values(['washington', 'london', 'Ankara'])"
      ]
     },
     "execution_count": 97,
     "metadata": {},
     "output_type": "execute_result"
    }
   ],
   "source": [
    "capital.values()"
   ]
  },
  {
   "cell_type": "code",
   "execution_count": 99,
   "id": "8aa309fb",
   "metadata": {},
   "outputs": [
    {
     "data": {
      "text/plain": [
       "['usa', 'uk', 'turkey']"
      ]
     },
     "execution_count": 99,
     "metadata": {},
     "output_type": "execute_result"
    }
   ],
   "source": [
    "#CHANGİNG DİCT KEYS TO LİST \n",
    "list1 = list(capital.keys())\n",
    "list1"
   ]
  },
  {
   "cell_type": "code",
   "execution_count": 102,
   "id": "fdef6db5",
   "metadata": {},
   "outputs": [
    {
     "data": {
      "text/plain": [
       "{'usa': 'washington',\n",
       " 'uk': 'london',\n",
       " 'turkey': 'Ankara',\n",
       " 'RusSia': 'MOSKOW',\n",
       " 'GERMANY': 'BERLİN'}"
      ]
     },
     "execution_count": 102,
     "metadata": {},
     "output_type": "execute_result"
    }
   ],
   "source": [
    "capital.update({\"RusSia\" : \"MOSKOW\"})\n",
    "capital.update({\"GERMANY\" : \"BERLİN\"})\n",
    "capital"
   ]
  },
  {
   "cell_type": "markdown",
   "id": "f3cba913",
   "metadata": {},
   "source": [
    "# # SET"
   ]
  },
  {
   "cell_type": "markdown",
   "id": "a0462ab0",
   "metadata": {},
   "source": [
    "THEY ARE UNORDERED , cant operate indexing"
   ]
  },
  {
   "cell_type": "markdown",
   "id": "10aa0b09",
   "metadata": {},
   "source": [
    "MEMBERS ARE UNİQUE"
   ]
  },
  {
   "cell_type": "markdown",
   "id": "c35ed4c4",
   "metadata": {},
   "source": [
    "NOT IMMUTABLE"
   ]
  },
  {
   "cell_type": "markdown",
   "id": "19bbc381",
   "metadata": {},
   "source": [
    "CAN CONTAİN DİFFERENT DATA TYPES"
   ]
  },
  {
   "cell_type": "markdown",
   "id": "1f2f3ee3",
   "metadata": {},
   "source": [
    "CAN BE CREATED BY Set()"
   ]
  },
  {
   "cell_type": "code",
   "execution_count": 107,
   "id": "2442a6a3",
   "metadata": {},
   "outputs": [],
   "source": [
    "list_example = [10,\"data\",7,8,True]"
   ]
  },
  {
   "cell_type": "code",
   "execution_count": 108,
   "id": "4005fe4e",
   "metadata": {},
   "outputs": [
    {
     "data": {
      "text/plain": [
       "{10, 7, 8, True, 'data'}"
      ]
     },
     "execution_count": 108,
     "metadata": {},
     "output_type": "execute_result"
    }
   ],
   "source": [
    "set_example = set(list_example)\n",
    "set_example"
   ]
  },
  {
   "cell_type": "code",
   "execution_count": 109,
   "id": "9be1d6c7",
   "metadata": {},
   "outputs": [
    {
     "data": {
      "text/plain": [
       "set"
      ]
     },
     "execution_count": 109,
     "metadata": {},
     "output_type": "execute_result"
    }
   ],
   "source": [
    "type(set_example)"
   ]
  },
  {
   "cell_type": "code",
   "execution_count": 111,
   "id": "fa6b2e5c",
   "metadata": {},
   "outputs": [],
   "source": [
    "tuple_example = (15,\"data science\",15,7,8,\"data science\")\n",
    "set_example2 = set(tuple_example)"
   ]
  },
  {
   "cell_type": "code",
   "execution_count": 112,
   "id": "9a4b25c6",
   "metadata": {},
   "outputs": [
    {
     "name": "stdout",
     "output_type": "stream",
     "text": [
      "{8, 'data science', 7, 15}\n",
      "<class 'set'>\n"
     ]
    }
   ],
   "source": [
    "print(set_example2 , type(set_example2 ), sep = \"\\n\")"
   ]
  },
  {
   "cell_type": "code",
   "execution_count": 113,
   "id": "16f0c827",
   "metadata": {},
   "outputs": [
    {
     "name": "stdout",
     "output_type": "stream",
     "text": [
      "{'l', 't', 'a', 'e', ' ', 'i', 'h', 'c', 'n', 'd', 'o', 's'}\n"
     ]
    }
   ],
   "source": [
    "# string sentence by alone is separated on its characted for every data types\n",
    "word = \"hello data science\"\n",
    "word_set = set(word)\n",
    "\n",
    "print(word_set)"
   ]
  },
  {
   "cell_type": "code",
   "execution_count": 130,
   "id": "ab808c29",
   "metadata": {
    "scrolled": true
   },
   "outputs": [
    {
     "ename": "TypeError",
     "evalue": "'set' object is not subscriptable",
     "output_type": "error",
     "traceback": [
      "\u001b[1;31m---------------------------------------------------------------------------\u001b[0m",
      "\u001b[1;31mTypeError\u001b[0m                                 Traceback (most recent call last)",
      "Cell \u001b[1;32mIn[130], line 1\u001b[0m\n\u001b[1;32m----> 1\u001b[0m word_set[\u001b[38;5;241m0\u001b[39m]\n",
      "\u001b[1;31mTypeError\u001b[0m: 'set' object is not subscriptable"
     ]
    }
   ],
   "source": [
    "word_set[0]"
   ]
  },
  {
   "cell_type": "code",
   "execution_count": 3,
   "id": "111d23dc",
   "metadata": {},
   "outputs": [
    {
     "data": {
      "text/plain": [
       "{10, 2, 66, True, 'b', 'hüseyin'}"
      ]
     },
     "execution_count": 3,
     "metadata": {},
     "output_type": "execute_result"
    }
   ],
   "source": [
    "#Listten sete dönüştürme\n",
    "List1 = [10,2,66,\"hüseyin\",\"b\",True,\"b\"]\n",
    "set1 = set(List1)\n",
    "set1"
   ]
  },
  {
   "cell_type": "code",
   "execution_count": 4,
   "id": "ae4edb0b",
   "metadata": {},
   "outputs": [
    {
     "data": {
      "text/plain": [
       "{10, 2, 66, 99, True, 'b', 'hüseyin'}"
      ]
     },
     "execution_count": 4,
     "metadata": {},
     "output_type": "execute_result"
    }
   ],
   "source": [
    "set1.add(99)\n",
    "set1"
   ]
  },
  {
   "cell_type": "code",
   "execution_count": 5,
   "id": "b85d0428",
   "metadata": {},
   "outputs": [
    {
     "data": {
      "text/plain": [
       "{10, 2, 66, True, 'b', 'hüseyin'}"
      ]
     },
     "execution_count": 5,
     "metadata": {},
     "output_type": "execute_result"
    }
   ],
   "source": [
    "set1.remove(99)\n",
    "set1"
   ]
  },
  {
   "cell_type": "code",
   "execution_count": 2,
   "id": "315fd6a8",
   "metadata": {},
   "outputs": [
    {
     "data": {
      "text/plain": [
       "{10, 11, 12, 3.25, 'B', 'C', 'a', 'b', 'c'}"
      ]
     },
     "execution_count": 2,
     "metadata": {},
     "output_type": "execute_result"
    }
   ],
   "source": [
    "list1 = [12,11,10,\"a\",\"b\",\"B\",\"C\",\"c\",3.25]\n",
    "set1 = set(list1)\n",
    "set1"
   ]
  },
  {
   "cell_type": "code",
   "execution_count": 3,
   "id": "ea966ba0",
   "metadata": {},
   "outputs": [
    {
     "name": "stdout",
     "output_type": "stream",
     "text": [
      "{'c', 1, 'B', 3.25, 3, 6, 'a', 10, 11, 12, 'C', 'b'}\n"
     ]
    }
   ],
   "source": [
    "list2 = [1,6,10,3,\"a\",\"b\",\"c\"]\n",
    "set2 = set(list2)\n",
    "print(set1.union(set2))"
   ]
  },
  {
   "cell_type": "code",
   "execution_count": 10,
   "id": "4e926eb1",
   "metadata": {},
   "outputs": [
    {
     "data": {
      "text/plain": [
       "{11, 12, 3.25, 'B', 'C'}"
      ]
     },
     "execution_count": 10,
     "metadata": {},
     "output_type": "execute_result"
    }
   ],
   "source": [
    "set1.difference(set2)"
   ]
  },
  {
   "cell_type": "code",
   "execution_count": 12,
   "id": "8690e522",
   "metadata": {},
   "outputs": [
    {
     "data": {
      "text/plain": [
       "{1, 3, 6}"
      ]
     },
     "execution_count": 12,
     "metadata": {},
     "output_type": "execute_result"
    }
   ],
   "source": [
    "set2.difference(set1)"
   ]
  },
  {
   "cell_type": "code",
   "execution_count": 4,
   "id": "d019eafe",
   "metadata": {},
   "outputs": [
    {
     "data": {
      "text/plain": [
       "{10, 'a', 'b', 'c'}"
      ]
     },
     "execution_count": 4,
     "metadata": {},
     "output_type": "execute_result"
    }
   ],
   "source": [
    "set1.intersection(set2)"
   ]
  },
  {
   "cell_type": "code",
   "execution_count": 5,
   "id": "61347566",
   "metadata": {},
   "outputs": [
    {
     "data": {
      "text/plain": [
       "{10, 'a', 'b', 'c'}"
      ]
     },
     "execution_count": 5,
     "metadata": {},
     "output_type": "execute_result"
    }
   ],
   "source": [
    "set1 & set2"
   ]
  },
  {
   "cell_type": "code",
   "execution_count": 6,
   "id": "78c40d3e",
   "metadata": {},
   "outputs": [
    {
     "data": {
      "text/plain": [
       "{1, 10, 11, 12, 3, 3.25, 6, 'B', 'C', 'a', 'b', 'c'}"
      ]
     },
     "execution_count": 6,
     "metadata": {},
     "output_type": "execute_result"
    }
   ],
   "source": [
    "set1.union(set2)"
   ]
  },
  {
   "cell_type": "code",
   "execution_count": 7,
   "id": "cd542ada",
   "metadata": {},
   "outputs": [
    {
     "data": {
      "text/plain": [
       "False"
      ]
     },
     "execution_count": 7,
     "metadata": {},
     "output_type": "execute_result"
    }
   ],
   "source": [
    "set1.issubset(set2)"
   ]
  },
  {
   "cell_type": "code",
   "execution_count": 8,
   "id": "9e26db70",
   "metadata": {},
   "outputs": [
    {
     "data": {
      "text/plain": [
       "False"
      ]
     },
     "execution_count": 8,
     "metadata": {},
     "output_type": "execute_result"
    }
   ],
   "source": [
    "set2.issubset(set1)"
   ]
  },
  {
   "cell_type": "code",
   "execution_count": 9,
   "id": "256fd1a7",
   "metadata": {},
   "outputs": [
    {
     "data": {
      "text/plain": [
       "False"
      ]
     },
     "execution_count": 9,
     "metadata": {},
     "output_type": "execute_result"
    }
   ],
   "source": [
    "#to find out whether intersection of two sets is empty or not\n",
    "set1.isdisjoint(set2)"
   ]
  },
  {
   "cell_type": "markdown",
   "id": "f46636d5",
   "metadata": {},
   "source": [
    "# İf Else\n"
   ]
  },
  {
   "cell_type": "markdown",
   "id": "81e19025",
   "metadata": {},
   "source": [
    "# Comparison operators"
   ]
  },
  {
   "cell_type": "code",
   "execution_count": 10,
   "id": "1f58b4a3",
   "metadata": {},
   "outputs": [
    {
     "name": "stdout",
     "output_type": "stream",
     "text": [
      "False\n"
     ]
    }
   ],
   "source": [
    "print(\"machine\" == \"Machine\")"
   ]
  },
  {
   "cell_type": "code",
   "execution_count": 12,
   "id": "2c62fca2",
   "metadata": {},
   "outputs": [
    {
     "name": "stdout",
     "output_type": "stream",
     "text": [
      "False\n"
     ]
    }
   ],
   "source": [
    "print(\"a\" and False)"
   ]
  },
  {
   "cell_type": "code",
   "execution_count": 24,
   "id": "d299a2d7",
   "metadata": {},
   "outputs": [
    {
     "name": "stdout",
     "output_type": "stream",
     "text": [
      "40\n"
     ]
    }
   ],
   "source": [
    "a = 40\n",
    "\n",
    "if a> 40:\n",
    "    print(a)\n",
    "else:\n",
    "    print(a)"
   ]
  },
  {
   "cell_type": "code",
   "execution_count": 25,
   "id": "e063d6c3",
   "metadata": {},
   "outputs": [
    {
     "data": {
      "text/plain": [
       "tuple"
      ]
     },
     "execution_count": 25,
     "metadata": {},
     "output_type": "execute_result"
    }
   ],
   "source": [
    "tuple1 = \"a\",5,6,3,True,\"hüseyin\"\n",
    "type(tuple1)"
   ]
  },
  {
   "cell_type": "code",
   "execution_count": 26,
   "id": "ab3c04c4",
   "metadata": {},
   "outputs": [
    {
     "data": {
      "text/plain": [
       "True"
      ]
     },
     "execution_count": 26,
     "metadata": {},
     "output_type": "execute_result"
    }
   ],
   "source": [
    " 5 in tuple1"
   ]
  },
  {
   "cell_type": "code",
   "execution_count": 27,
   "id": "7f3da5bf",
   "metadata": {},
   "outputs": [
    {
     "data": {
      "text/plain": [
       "tuple"
      ]
     },
     "execution_count": 27,
     "metadata": {},
     "output_type": "execute_result"
    }
   ],
   "source": [
    "games = \"assasins\",\"elden ring\", \"fifa\"\n",
    "type(games)"
   ]
  },
  {
   "cell_type": "code",
   "execution_count": 28,
   "id": "52fa93de",
   "metadata": {},
   "outputs": [
    {
     "name": "stdout",
     "output_type": "stream",
     "text": [
      "game1 is fifa\n"
     ]
    }
   ],
   "source": [
    "game1 = \"fifa\"\n",
    "\n",
    "if game1 in games:\n",
    "    if game1 == games[0]:\n",
    "        print(\"game1 is assasins\")\n",
    "    elif game1 == games[1]:\n",
    "        print(\"game1 is elden ring\")\n",
    "    elif game1 == games[2]:\n",
    "        print(\"game1 is fifa\")\n",
    "else:\n",
    "    print(\"bu oyun gamesde değil\")\n",
    "    "
   ]
  },
  {
   "cell_type": "code",
   "execution_count": 32,
   "id": "78283f65",
   "metadata": {},
   "outputs": [
    {
     "name": "stdout",
     "output_type": "stream",
     "text": [
      "adını gir : a\n",
      "hello:a\n"
     ]
    }
   ],
   "source": [
    "a = input(\"adını gir : \")\n",
    "print(\"hello\",a,sep = \":\")"
   ]
  },
  {
   "cell_type": "code",
   "execution_count": 31,
   "id": "1cfe45d9",
   "metadata": {},
   "outputs": [
    {
     "data": {
      "text/plain": [
       "4"
      ]
     },
     "execution_count": 31,
     "metadata": {},
     "output_type": "execute_result"
    }
   ],
   "source": [
    "a = 4 if True else 5\n",
    "a"
   ]
  },
  {
   "cell_type": "code",
   "execution_count": 33,
   "id": "f589eba8",
   "metadata": {},
   "outputs": [
    {
     "name": "stdout",
     "output_type": "stream",
     "text": [
      "[2200, 2750, 2475, 2684, 2640]\n"
     ]
    }
   ],
   "source": [
    "maaşlar = [2000,2500,2250,2440,2400]\n",
    "new_salaries = []\n",
    "for i in maaşlar:\n",
    "    increased_salary = i + (i * 10 // 100 )\n",
    "    new_salaries = new_salaries + [increased_salary]\n",
    "print(new_salaries)    \n",
    "    "
   ]
  },
  {
   "cell_type": "code",
   "execution_count": 36,
   "id": "ea12fd08",
   "metadata": {},
   "outputs": [
    {
     "ename": "TypeError",
     "evalue": "cannot unpack non-iterable int object",
     "output_type": "error",
     "traceback": [
      "\u001b[1;31m---------------------------------------------------------------------------\u001b[0m",
      "\u001b[1;31mTypeError\u001b[0m                                 Traceback (most recent call last)",
      "Cell \u001b[1;32mIn[36], line 3\u001b[0m\n\u001b[0;32m      1\u001b[0m x , y,z \u001b[38;5;241m=\u001b[39m \u001b[38;5;241m0\u001b[39m,\u001b[38;5;241m0\u001b[39m,\u001b[38;5;241m0\u001b[39m\n\u001b[0;32m      2\u001b[0m x \u001b[38;5;241m=\u001b[39m y \u001b[38;5;241m=\u001b[39m z \u001b[38;5;241m=\u001b[39m \u001b[38;5;241m0\u001b[39m\n\u001b[1;32m----> 3\u001b[0m x,y,z \u001b[38;5;241m=\u001b[39m \u001b[38;5;241m0\u001b[39m\n",
      "\u001b[1;31mTypeError\u001b[0m: cannot unpack non-iterable int object"
     ]
    }
   ],
   "source": [
    "x , y,z = 0,0,0\n",
    "x = y = z = 0\n"
   ]
  },
  {
   "cell_type": "code",
   "execution_count": 39,
   "id": "20ca7d78",
   "metadata": {},
   "outputs": [
    {
     "data": {
      "text/plain": [
       "['ALI', 'MEHMET', 'CEYDA', 'MERVE', 'IREM']"
      ]
     },
     "execution_count": 39,
     "metadata": {},
     "output_type": "execute_result"
    }
   ],
   "source": [
    "isimler = [\"ali\",\"mehmet\",\"ceyda\",\"merve\",\"irem\"]\n",
    "new_isimler = []\n",
    "new_isimler = [i.upper() for i in isimler]\n",
    "new_isimler"
   ]
  },
  {
   "cell_type": "code",
   "execution_count": 40,
   "id": "e3757f46",
   "metadata": {},
   "outputs": [
    {
     "data": {
      "text/plain": [
       "<function print(*args, sep=' ', end='\\n', file=None, flush=False)>"
      ]
     },
     "execution_count": 40,
     "metadata": {},
     "output_type": "execute_result"
    }
   ],
   "source": [
    "print"
   ]
  },
  {
   "cell_type": "code",
   "execution_count": null,
   "id": "763f1295",
   "metadata": {},
   "outputs": [],
   "source": [
    "?print"
   ]
  },
  {
   "cell_type": "code",
   "execution_count": 42,
   "id": "ec3f4dce",
   "metadata": {},
   "outputs": [
    {
     "name": "stdout",
     "output_type": "stream",
     "text": [
      "ali,mehmet,rıza\n"
     ]
    }
   ],
   "source": [
    "print(\"ali\",\"mehmet\",\"rıza\", sep =\",\")"
   ]
  },
  {
   "cell_type": "markdown",
   "id": "0bef0f39",
   "metadata": {},
   "source": [
    "# Functions"
   ]
  },
  {
   "cell_type": "code",
   "execution_count": null,
   "id": "e80f59cf",
   "metadata": {},
   "outputs": [],
   "source": [
    "def new_cube(x):\n",
    "    print(x **3)"
   ]
  },
  {
   "cell_type": "code",
   "execution_count": null,
   "id": "e849ec31",
   "metadata": {},
   "outputs": [],
   "source": [
    "new_cube(5)"
   ]
  },
  {
   "cell_type": "code",
   "execution_count": null,
   "id": "714d5898",
   "metadata": {},
   "outputs": [],
   "source": [
    "type(cube(3))"
   ]
  },
  {
   "cell_type": "code",
   "execution_count": null,
   "id": "1b44daa2",
   "metadata": {},
   "outputs": [],
   "source": [
    "print(\"a\")"
   ]
  },
  {
   "cell_type": "code",
   "execution_count": null,
   "id": "00433b86",
   "metadata": {
    "collapsed": true
   },
   "outputs": [],
   "source": []
  }
 ],
 "metadata": {
  "kernelspec": {
   "display_name": "Python 3 (ipykernel)",
   "language": "python",
   "name": "python3"
  },
  "language_info": {
   "codemirror_mode": {
    "name": "ipython",
    "version": 3
   },
   "file_extension": ".py",
   "mimetype": "text/x-python",
   "name": "python",
   "nbconvert_exporter": "python",
   "pygments_lexer": "ipython3",
   "version": "3.11.5"
  }
 },
 "nbformat": 4,
 "nbformat_minor": 5
}
