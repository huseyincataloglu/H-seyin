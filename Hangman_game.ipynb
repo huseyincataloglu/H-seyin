{
 "cells": [
  {
   "cell_type": "code",
   "execution_count": 9,
   "id": "daea8ae6-83a8-4f05-9da0-e28a90a274d8",
   "metadata": {
    "tags": []
   },
   "outputs": [
    {
     "name": "stdin",
     "output_type": "stream",
     "text": [
      "guess a letter : a\n"
     ]
    },
    {
     "name": "stdout",
     "output_type": "stream",
     "text": [
      "['_', 'a', '_', '_', '_']\n"
     ]
    },
    {
     "name": "stdin",
     "output_type": "stream",
     "text": [
      "guess a letter : b\n"
     ]
    },
    {
     "name": "stdout",
     "output_type": "stream",
     "text": [
      "wrong answer\n",
      "you have 3 lives left\n"
     ]
    },
    {
     "name": "stdin",
     "output_type": "stream",
     "text": [
      "guess a letter : r\n"
     ]
    },
    {
     "name": "stdout",
     "output_type": "stream",
     "text": [
      "wrong answer\n",
      "you have 2 lives left\n"
     ]
    },
    {
     "name": "stdin",
     "output_type": "stream",
     "text": [
      "guess a letter : y\n"
     ]
    },
    {
     "name": "stdout",
     "output_type": "stream",
     "text": [
      "wrong answer\n",
      "you have 1 lives left\n"
     ]
    },
    {
     "name": "stdin",
     "output_type": "stream",
     "text": [
      "guess a letter : o\n"
     ]
    },
    {
     "name": "stdout",
     "output_type": "stream",
     "text": [
      "wrong answer\n",
      "you have 0 lives left\n",
      "You lost\n"
     ]
    }
   ],
   "source": [
    "word_list = [\"aardvark\", \"baboon\", \"camel\"]\n",
    "blank_list = []\n",
    "life = 4\n",
    "blank_counter = 0\n",
    "control_val = False\n",
    "#TODO-1 - Randomly choose a word from the word_list and assign it to a variable called chosen_word.\n",
    "import random\n",
    "chosen_word = random.choice(word_list)\n",
    "for i in chosen_word:\n",
    "    blank_list.append(\"_\")\n",
    "blank_counter = len(blank_list)\n",
    "\n",
    "\n",
    "#TODO-3 - Check if the letter the user guessed (guess) is one of the letters in the chosen_word.\n",
    "while life > 0 and blank_counter > 0:\n",
    "    guess = input(\"guess a letter :\").lower()\n",
    "    for i in range(len(chosen_word)):\n",
    "        if guess == chosen_word[i]:\n",
    "            blank_list[i] = guess\n",
    "            blank_counter -= 1\n",
    "            print(blank_list)\n",
    "            control_val = True\n",
    "    if control_val == False:\n",
    "        print(\"wrong answer\")\n",
    "        life -= 1\n",
    "        print(\"you have\", life, \"lives left\")\n",
    "    control_val = False\n",
    "    \n",
    "if(life == 0 or blank_counter > 0):\n",
    "    print(\"You lost\")\n",
    "else:\n",
    "    print(\"You win\")\n",
    "    print(f\"The word is : {blank_list}\")\n",
    "\n"
   ]
  },
  {
   "cell_type": "code",
   "execution_count": null,
   "id": "fe8c2026-4c62-4998-aef8-24a9f74e9260",
   "metadata": {},
   "outputs": [],
   "source": []
  }
 ],
 "metadata": {
  "kernelspec": {
   "display_name": "Python 3 (ipykernel)",
   "language": "python",
   "name": "python3"
  },
  "language_info": {
   "codemirror_mode": {
    "name": "ipython",
    "version": 3
   },
   "file_extension": ".py",
   "mimetype": "text/x-python",
   "name": "python",
   "nbconvert_exporter": "python",
   "pygments_lexer": "ipython3",
   "version": "3.11.5"
  }
 },
 "nbformat": 4,
 "nbformat_minor": 5
}
